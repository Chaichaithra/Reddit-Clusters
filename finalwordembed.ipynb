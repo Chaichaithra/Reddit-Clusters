{
 "cells": [
  {
   "cell_type": "code",
   "execution_count": 54,
   "id": "f3e65e8f",
   "metadata": {},
   "outputs": [
    {
     "name": "stderr",
     "output_type": "stream",
     "text": [
      "[nltk_data] Downloading package stopwords to\n",
      "[nltk_data]     C:\\Users\\chait\\AppData\\Roaming\\nltk_data...\n",
      "[nltk_data]   Package stopwords is already up-to-date!\n"
     ]
    }
   ],
   "source": [
    "import numpy as np                   \n",
    "import pandas as pd   \n",
    "import matplotlib.pyplot as plt    \n",
    "import seaborn as sns\n",
    "import sys\n",
    "import nltk  \n",
    "nltk.download('stopwords')          \n",
    "from nltk.corpus import stopwords\n",
    "import json\n",
    "import fasttext\n",
    "import umap\n",
    "import random\n",
    "import hdbscan\n",
    "import random\n",
    "from functools import partial\n",
    "\n",
    "from tqdm.notebook import trange\n",
    "from hyperopt import fmin, tpe, hp, STATUS_OK, space_eval, Trials\n",
    "from sklearn.metrics.cluster import adjusted_rand_score\n",
    "from sklearn.metrics.cluster import normalized_mutual_info_score\n",
    "from sentence_transformers import SentenceTransformer"
   ]
  },
  {
   "cell_type": "code",
   "execution_count": 72,
   "id": "5ada02b0",
   "metadata": {},
   "outputs": [],
   "source": [
    "# THIS FUNCTION TAKES A CSV FILE FROM A GITHUB URL AND READS IT INTO A PANDAS DATA FRAME\n",
    "import pandas as pd\n",
    "\n",
    "def read_file(url):\n",
    "\n",
    "    \"\"\"\n",
    "    Takes GitHub url as an argument,\n",
    "    pulls CSV file located @ github URL.\n",
    "\n",
    "    \"\"\"\n",
    "\n",
    "    url = url + \"?raw=true\"\n",
    "    df = pd.read_csv(url)\n",
    "    return df\n",
    "\n",
    "\n",
    "# READ FILE FROM GITHUB REPO \n",
    "# CHANGE THE URL TO YOUR DATA LOCATION!\n",
    "url = \"https://github.com/Chaichaithra/Reddit-Clusters/blob/main/grouped_subreddits.csv\"\n",
    "\n",
    "df = read_file(url)"
   ]
  },
  {
   "cell_type": "code",
   "execution_count": null,
   "id": "d9e98fe5",
   "metadata": {},
   "outputs": [],
   "source": []
  },
  {
   "cell_type": "code",
   "execution_count": null,
   "id": "4c9f1101",
   "metadata": {},
   "outputs": [],
   "source": []
  },
  {
   "cell_type": "code",
   "execution_count": 69,
   "id": "401f4d44",
   "metadata": {},
   "outputs": [],
   "source": [
    "#df = pd.read_csv(\"C:/Users/chait/Desktop/Masterthesisgit/grouped_subreddits.csv\")"
   ]
  },
  {
   "cell_type": "code",
   "execution_count": 4,
   "id": "b151f2ca",
   "metadata": {},
   "outputs": [
    {
     "name": "stderr",
     "output_type": "stream",
     "text": [
      "<ipython-input-4-e4cdc9c278ad>:2: FutureWarning: The default value of regex will change from True to False in a future version.\n",
      "  df['clean_doc'] = df['title'].str.replace(\"[^a-zA-Z#]\", \" \")\n"
     ]
    }
   ],
   "source": [
    "# removing everything except alphabets`\n",
    "df['clean_doc'] = df['title'].str.replace(\"[^a-zA-Z#]\", \" \")\n",
    "# removing null fields\n",
    "df = df[df['clean_doc'].notnull()]\n",
    "# removing short words\n",
    "df['clean_doc'] = df['clean_doc'].apply(lambda x: ' '.join([w for w in x.split() if len(w)>3]))\n",
    "# make all text lowercase\n",
    "df['clean_doc'] = df['clean_doc'].apply(lambda x: x.lower())"
   ]
  },
  {
   "cell_type": "code",
   "execution_count": 5,
   "id": "d79dea12",
   "metadata": {},
   "outputs": [],
   "source": [
    "#tfidf vectors "
   ]
  },
  {
   "cell_type": "code",
   "execution_count": 6,
   "id": "2a06a553",
   "metadata": {},
   "outputs": [],
   "source": [
    "stop_words = stopwords.words('english')\n",
    "stop_words.extend(['like','january','thread','would','first','time','good', 'moderator', 'announcement','daily','discussion','baiting','titles','title','spam','upvote','allowed','know','make','best','weekly','think','year','years'])\n",
    "# data is from washingtonpost, and it occurs heavily in every article, thus added to stop words\n",
    "# tokenization\n",
    "tokenized_doc = df['clean_doc'].apply(lambda x: x.split())\n",
    "# remove stop-words\n",
    "tokenized_doc = tokenized_doc.apply(lambda x: [item for item in x if item not in stop_words])\n",
    "#print(tokenized_doc)\n",
    "# de-tokenization\n",
    "detokenized_doc = []\n",
    "for i in range(len(tokenized_doc)):\n",
    "    if i in tokenized_doc:\n",
    "        t = ' '.join(tokenized_doc[i])\n",
    "        detokenized_doc.append(t)\n",
    "#print(detokenized_doc)\n",
    "from sklearn.feature_extraction.text import TfidfVectorizer\n",
    "# tfidf vectorizer of scikit learn\n",
    "vectorizer = TfidfVectorizer(stop_words=stop_words,max_features=10000, max_df = 0.5, use_idf = True, ngram_range=(1,3))\n",
    "X = vectorizer.fit_transform(detokenized_doc)\n",
    "#print(X) # check shape of the document-term matrix\n",
    "terms = vectorizer.get_feature_names()\n",
    "#print(X)"
   ]
  },
  {
   "cell_type": "code",
   "execution_count": 7,
   "id": "f39b6ee1",
   "metadata": {},
   "outputs": [],
   "source": []
  },
  {
   "cell_type": "code",
   "execution_count": 8,
   "id": "34843ec8",
   "metadata": {},
   "outputs": [
    {
     "data": {
      "text/plain": [
       "1096"
      ]
     },
     "execution_count": 8,
     "metadata": {},
     "output_type": "execute_result"
    }
   ],
   "source": [
    "all_intents = list(df['clean_doc'])\n",
    "len(all_intents)"
   ]
  },
  {
   "cell_type": "code",
   "execution_count": 9,
   "id": "444e404c",
   "metadata": {},
   "outputs": [],
   "source": [
    "\n",
    "from sentence_transformers import SentenceTransformer\n",
    "model_bert = SentenceTransformer('all-mpnet-base-v2')\n"
   ]
  },
  {
   "cell_type": "code",
   "execution_count": 10,
   "id": "fe98dcc4",
   "metadata": {},
   "outputs": [],
   "source": [
    "def embed(model, model_type, sentences):\n",
    "    if model_type == 'use':\n",
    "        embeddings = model(sentences)\n",
    "    elif model_type == 'sentence transformer':\n",
    "        embeddings = model.encode(sentences, show_progress_bar=True)\n",
    "    \n",
    "    return embeddings"
   ]
  },
  {
   "cell_type": "code",
   "execution_count": 11,
   "id": "f76a7094",
   "metadata": {},
   "outputs": [
    {
     "data": {
      "application/vnd.jupyter.widget-view+json": {
       "model_id": "1d5773a28b7c4af4947ab3a81e565ed7",
       "version_major": 2,
       "version_minor": 0
      },
      "text/plain": [
       "Batches:   0%|          | 0/35 [00:00<?, ?it/s]"
      ]
     },
     "metadata": {},
     "output_type": "display_data"
    }
   ],
   "source": [
    "embeddings_st1 = embed(model_bert, 'sentence transformer', all_intents)\n"
   ]
  },
  {
   "cell_type": "code",
   "execution_count": 12,
   "id": "1ca473ae",
   "metadata": {},
   "outputs": [
    {
     "name": "stdout",
     "output_type": "stream",
     "text": [
      "(1096, 768)\n",
      "<class 'numpy.ndarray'>\n",
      "[[ 0.00623906  0.12168376  0.0051742  ...  0.02923936 -0.04030319\n",
      "  -0.05051731]\n",
      " [ 0.05088096  0.01648959 -0.03926764 ...  0.04371506 -0.01834014\n",
      "   0.01838004]\n",
      " [ 0.03596247  0.04397437 -0.00123556 ...  0.00864509  0.00054365\n",
      "  -0.02788111]\n",
      " ...\n",
      " [ 0.07277388  0.00636981 -0.00602381 ...  0.0372994  -0.01180758\n",
      "  -0.02630982]\n",
      " [ 0.08525436  0.09003883  0.00709792 ... -0.02982    -0.01349628\n",
      "  -0.02587245]\n",
      " [ 0.03386794  0.0239526  -0.00670573 ...  0.03719423 -0.00248446\n",
      "   0.01994923]]\n"
     ]
    }
   ],
   "source": [
    "print(embeddings_st1.shape)\n",
    "print(type(embeddings_st1[0]))\n",
    "print(embeddings_st1)"
   ]
  },
  {
   "cell_type": "code",
   "execution_count": 13,
   "id": "13840b7c",
   "metadata": {},
   "outputs": [],
   "source": [
    "#fasttext "
   ]
  },
  {
   "cell_type": "code",
   "execution_count": 14,
   "id": "b08e2049",
   "metadata": {
    "scrolled": true
   },
   "outputs": [
    {
     "name": "stdout",
     "output_type": "stream",
     "text": [
      "[[-0.0881656   0.13563462 -0.10791531 ...  0.0182694  -0.00114014\n",
      "   0.06861518]\n",
      " [-0.10003066  0.15038513 -0.11576287 ... -0.00309646 -0.00898204\n",
      "   0.07826889]\n",
      " [-0.0746062   0.12895048 -0.09622978 ... -0.0151559  -0.01172664\n",
      "   0.06314418]\n",
      " ...\n",
      " [-0.0926016   0.14789145 -0.10262422 ...  0.00556308 -0.01544046\n",
      "   0.07023936]\n",
      " [-0.08494918  0.11404093 -0.09044515 ...  0.0223351  -0.00949466\n",
      "   0.0606515 ]\n",
      " [-0.06716403  0.11463793 -0.09544742 ... -0.00294055 -0.00176887\n",
      "   0.05810364]]\n"
     ]
    }
   ],
   "source": [
    "model = fasttext.train_unsupervised('C:/Users/chait/Desktop/MT/wordembed.txt') \n",
    "f = []                                               \n",
    "for i in df['clean_doc']:   \n",
    "    f.append(model.get_sentence_vector(i))\n",
    "\n",
    "w_train = np.array(f)    \n",
    "print(w_train)\n",
    "\n",
    "#df['vec'] = df['clean_doc'].apply(lambda x: model.get_sentence_vector(x))"
   ]
  },
  {
   "cell_type": "code",
   "execution_count": 15,
   "id": "949b578d",
   "metadata": {},
   "outputs": [],
   "source": [
    "def generating_clusters(message_embeddings,\n",
    "                      n_neighbors,\n",
    "                      n_components, \n",
    "                      min_cluster_size,\n",
    "                      min_samples = None,\n",
    "                      random_state = None):\n",
    "    \n",
    "    umap_embeddings = (umap.UMAP(n_neighbors = n_neighbors, \n",
    "                                n_components = n_components, \n",
    "                                metric = 'cosine', \n",
    "                                random_state=random_state)\n",
    "                            .fit_transform(message_embeddings))\n",
    "\n",
    "    clusters = hdbscan.HDBSCAN(min_cluster_size = min_cluster_size, \n",
    "                               min_samples = min_samples,\n",
    "                               metric='euclidean', \n",
    "                               gen_min_span_tree=True,\n",
    "                               cluster_selection_method='eom').fit(umap_embeddings)\n",
    "    \n",
    "    return clusters"
   ]
  },
  {
   "cell_type": "code",
   "execution_count": 16,
   "id": "e5d6490d",
   "metadata": {},
   "outputs": [],
   "source": [
    "def label_clusters(clusters, prob_threshold = 0.05): \n",
    "    \n",
    "    cluster_labels = clusters.labels_\n",
    "    label_count = len(np.unique(cluster_labels))\n",
    "    total_num = len(clusters.labels_)\n",
    "    cost = (np.count_nonzero(clusters.probabilities_ < prob_threshold)/total_num)\n",
    "    return label_count, cost"
   ]
  },
  {
   "cell_type": "code",
   "execution_count": 17,
   "id": "c3341d92",
   "metadata": {},
   "outputs": [],
   "source": [
    "def random_search(embeddings, space, num_evals):\n",
    "    \"\"\"\n",
    "    Randomly search parameter space of clustering pipeline\n",
    "\n",
    "    Arguments:\n",
    "        embeddings: embeddings to use\n",
    "        space: dict, contains keys for 'n_neighbors', 'n_components',\n",
    "               and 'min_cluster_size' and values with\n",
    "               corresponding lists or ranges of parameters to search\n",
    "        num_evals: int, number of random parameter combinations to try\n",
    "\n",
    "    Returns:\n",
    "        df_result: pandas dataframe containing info on each evaluation\n",
    "                   performed, including run_id, parameters used, label\n",
    "                   count, and cost\n",
    "    \"\"\"\n",
    "    \n",
    "    results = []\n",
    "    \n",
    "    for i in trange(num_evals):\n",
    "        n_neighbors = random.choice(space['n_neighbors'])\n",
    "        n_components = random.choice(space['n_components'])\n",
    "        min_cluster_size = random.choice(space['min_cluster_size'])\n",
    "        random_state = space['random_state']\n",
    "        \n",
    "        clusters = generating_clusters(embeddings, \n",
    "                                     n_neighbors=n_neighbors, \n",
    "                                     n_components=n_components, \n",
    "                                     min_cluster_size=min_cluster_size, \n",
    "                                     random_state=random_state)\n",
    "    \n",
    "        label_count, cost = label_clusters(clusters, prob_threshold = 0.05)\n",
    "                \n",
    "        results.append([i, n_neighbors, n_components, min_cluster_size, label_count, cost])\n",
    "    \n",
    "    result_df = pd.DataFrame(results, columns=['run_id', 'n_neighbors', 'n_components', \n",
    "                                               'min_cluster_size', 'label_count', 'cost'])\n",
    "    \n",
    "    return result_df.sort_values(by='cost')"
   ]
  },
  {
   "cell_type": "code",
   "execution_count": 18,
   "id": "101b2a7a",
   "metadata": {},
   "outputs": [],
   "source": [
    "def objective(params, embeddings, label_lower, label_upper): \n",
    "    clusters = generating_clusters(embeddings, \n",
    "                                 n_neighbors = params['n_neighbors'], \n",
    "                                 n_components = params['n_components'], \n",
    "                                 min_cluster_size = params['min_cluster_size'],\n",
    "                                 random_state = params['random_state'])\n",
    "    \n",
    "    label_count, cost = label_clusters(clusters, prob_threshold = 0.05)\n",
    "    \n",
    "    #15% penalty on the cost function if outside the desired range of groups\n",
    "    if (label_count < label_lower) | (label_count > label_upper):\n",
    "        penalty = 0.15 \n",
    "    else:\n",
    "        penalty = 0\n",
    "    \n",
    "    loss = cost + penalty\n",
    "    \n",
    "    return {'loss': loss, 'label_count': label_count, 'status': STATUS_OK}"
   ]
  },
  {
   "cell_type": "code",
   "execution_count": 19,
   "id": "5c022547",
   "metadata": {},
   "outputs": [],
   "source": [
    "def bayesian_search(embeddings, space, label_lower, label_upper, max_evals=100):\n",
    "    trials = Trials()\n",
    "    fmin_objective = partial(objective, \n",
    "                             embeddings=embeddings, \n",
    "                             label_lower=label_lower,\n",
    "                             label_upper=label_upper)\n",
    "    \n",
    "    best = fmin(fmin_objective, \n",
    "                space = space, \n",
    "                algo=tpe.suggest,\n",
    "                max_evals=max_evals, \n",
    "                trials=trials)\n",
    "\n",
    "    best_params = space_eval(space, best)\n",
    "    print ('best:')\n",
    "    print (best_params)\n",
    "    print (f\"label count: {trials.best_trial['result']['label_count']}\")\n",
    "    \n",
    "    best_clusters = generating_clusters(embeddings, \n",
    "                                      n_neighbors = best_params['n_neighbors'], \n",
    "                                      n_components = best_params['n_components'], \n",
    "                                      min_cluster_size = best_params['min_cluster_size'],\n",
    "                                      random_state = best_params['random_state'])\n",
    "    \n",
    "    return best_params, best_clusters, trials"
   ]
  },
  {
   "cell_type": "code",
   "execution_count": 20,
   "id": "86b356b5",
   "metadata": {},
   "outputs": [],
   "source": [
    "def combine_results(df_ground, cluster_dict):\n",
    "\n",
    "    df_combined = df_ground.copy()\n",
    "    \n",
    "    for key, value in cluster_dict.items():\n",
    "        df_combined[key] = value.labels_\n",
    "    \n",
    "    return df_combined"
   ]
  },
  {
   "cell_type": "code",
   "execution_count": 21,
   "id": "39e337c5",
   "metadata": {},
   "outputs": [],
   "source": [
    "def summarize_results(results_dict, results_df):\n",
    "  \n",
    "    summary = []\n",
    "\n",
    "    for key, value in results_dict.items():\n",
    "        ground_label = results_df['category'].values\n",
    "        predicted_label = results_df[value[0]].values\n",
    "        \n",
    "        ari = np.round(adjusted_rand_score(ground_label, predicted_label), 3)\n",
    "        nmi = np.round(normalized_mutual_info_score(ground_label, predicted_label), 3)\n",
    "        loss = value[2].best_trial['result']['loss']\n",
    "        label_count = value[2].best_trial['result']['label_count']\n",
    "        n_neighbors = value[1]['n_neighbors']\n",
    "        n_components = value[1]['n_components']\n",
    "        min_cluster_size = value[1]['min_cluster_size']\n",
    "        random_state = value[1]['random_state']\n",
    "        \n",
    "        summary.append([key, ari, nmi, loss, label_count, n_neighbors, n_components, \n",
    "                        min_cluster_size, random_state])\n",
    "\n",
    "    df_final = pd.DataFrame(summary, columns=['Model', 'ARI', 'NMI', 'loss', \n",
    "                                              'label_count', 'n_neighbors',\n",
    "                                              'n_components', 'min_cluster_size',\n",
    "                                              'random_state'])\n",
    "    \n",
    "    return df_final.sort_values(by='NMI', ascending=False)"
   ]
  },
  {
   "cell_type": "code",
   "execution_count": 22,
   "id": "fded19ef",
   "metadata": {},
   "outputs": [],
   "source": [
    "def plot_clusters(embeddings, clusters, n_neighbors=15, min_dist=0.1):\n",
    "\n",
    "    umap_data = umap.UMAP(n_neighbors=n_neighbors, \n",
    "                          n_components=2, \n",
    "                          min_dist = min_dist,  \n",
    "                          #metric='cosine',\n",
    "                          random_state=42).fit_transform(embeddings)\n",
    "\n",
    "    point_size = 100.0 / np.sqrt(embeddings.shape[0])\n",
    "    \n",
    "    result = pd.DataFrame(umap_data, columns=['x', 'y'])\n",
    "    result['labels'] = clusters.labels_\n",
    "\n",
    "    fig, ax = plt.subplots(figsize=(14, 8))\n",
    "    outliers = result[result.labels == -1]\n",
    "    clustered = result[result.labels != -1]\n",
    "    plt.scatter(outliers.x, outliers.y, color = 'lightgrey', s=point_size)\n",
    "    plt.scatter(clustered.x, clustered.y, c=clustered.labels, s=point_size, cmap='jet')\n",
    "    plt.colorbar()\n",
    "    plt.show()"
   ]
  },
  {
   "cell_type": "code",
   "execution_count": 23,
   "id": "d6b30d04",
   "metadata": {},
   "outputs": [],
   "source": [
    "#tfidf\n",
    "clusters_default = generating_clusters(X, \n",
    "                                     n_neighbors = 15, \n",
    "                                     n_components = 5, \n",
    "                                     min_cluster_size = 10,\n",
    "                                     random_state=42)"
   ]
  },
  {
   "cell_type": "code",
   "execution_count": 24,
   "id": "60249da3",
   "metadata": {},
   "outputs": [
    {
     "name": "stdout",
     "output_type": "stream",
     "text": [
      "17\n",
      "0.5912408759124088\n"
     ]
    }
   ],
   "source": [
    "labels_def, cost_def = label_clusters(clusters_default)\n",
    "print(labels_def)\n",
    "print(cost_def)"
   ]
  },
  {
   "cell_type": "code",
   "execution_count": 25,
   "id": "35bc96f2",
   "metadata": {},
   "outputs": [],
   "source": [
    "#sentence\n",
    "clusters_default_sentence = generating_clusters(embeddings_st1, \n",
    "                                     n_neighbors = 15, \n",
    "                                     n_components = 5, \n",
    "                                     min_cluster_size = 10,\n",
    "                                     random_state=42)"
   ]
  },
  {
   "cell_type": "code",
   "execution_count": 26,
   "id": "8eade371",
   "metadata": {},
   "outputs": [
    {
     "name": "stdout",
     "output_type": "stream",
     "text": [
      "20\n",
      "0.36313868613138683\n"
     ]
    }
   ],
   "source": [
    "labels_def, cost_def = label_clusters(clusters_default_sentence)\n",
    "print(labels_def)\n",
    "print(cost_def)"
   ]
  },
  {
   "cell_type": "code",
   "execution_count": 27,
   "id": "548adbbf",
   "metadata": {},
   "outputs": [],
   "source": [
    "#fasttext\n",
    "clusters_default_fast = generating_clusters(w_train, \n",
    "                                     n_neighbors = 15, \n",
    "                                     n_components = 5, \n",
    "                                     min_cluster_size = 10,\n",
    "                                     random_state=42)"
   ]
  },
  {
   "cell_type": "code",
   "execution_count": 28,
   "id": "b31875ba",
   "metadata": {},
   "outputs": [
    {
     "name": "stdout",
     "output_type": "stream",
     "text": [
      "3\n",
      "0.5903284671532847\n"
     ]
    }
   ],
   "source": [
    "labels_def, cost_def = label_clusters(clusters_default_fast)\n",
    "print(labels_def)\n",
    "print(cost_def)"
   ]
  },
  {
   "cell_type": "code",
   "execution_count": null,
   "id": "d9864431",
   "metadata": {},
   "outputs": [],
   "source": [
    "#hyper parameter tuning "
   ]
  },
  {
   "cell_type": "code",
   "execution_count": 29,
   "id": "23af0b6d",
   "metadata": {},
   "outputs": [
    {
     "data": {
      "application/vnd.jupyter.widget-view+json": {
       "model_id": "bd8dfe07bd7145418b5f1b2bb685ce61",
       "version_major": 2,
       "version_minor": 0
      },
      "text/plain": [
       "  0%|          | 0/100 [00:00<?, ?it/s]"
      ]
     },
     "metadata": {},
     "output_type": "display_data"
    }
   ],
   "source": [
    "#tf-idf\n",
    "space = {\n",
    "        \"n_neighbors\": range(12,16),\n",
    "        \"n_components\": range(3,7),\n",
    "        \"min_cluster_size\": range(2,16),\n",
    "        \"random_state\": 42\n",
    "    }\n",
    "\n",
    "random_use = random_search(X, space, 100)"
   ]
  },
  {
   "cell_type": "code",
   "execution_count": 30,
   "id": "248000d6",
   "metadata": {},
   "outputs": [
    {
     "data": {
      "text/html": [
       "<div>\n",
       "<style scoped>\n",
       "    .dataframe tbody tr th:only-of-type {\n",
       "        vertical-align: middle;\n",
       "    }\n",
       "\n",
       "    .dataframe tbody tr th {\n",
       "        vertical-align: top;\n",
       "    }\n",
       "\n",
       "    .dataframe thead th {\n",
       "        text-align: right;\n",
       "    }\n",
       "</style>\n",
       "<table border=\"1\" class=\"dataframe\">\n",
       "  <thead>\n",
       "    <tr style=\"text-align: right;\">\n",
       "      <th></th>\n",
       "      <th>run_id</th>\n",
       "      <th>n_neighbors</th>\n",
       "      <th>n_components</th>\n",
       "      <th>min_cluster_size</th>\n",
       "      <th>label_count</th>\n",
       "      <th>cost</th>\n",
       "    </tr>\n",
       "  </thead>\n",
       "  <tbody>\n",
       "    <tr>\n",
       "      <th>67</th>\n",
       "      <td>67</td>\n",
       "      <td>14</td>\n",
       "      <td>3</td>\n",
       "      <td>2</td>\n",
       "      <td>163</td>\n",
       "      <td>0.228102</td>\n",
       "    </tr>\n",
       "    <tr>\n",
       "      <th>33</th>\n",
       "      <td>33</td>\n",
       "      <td>14</td>\n",
       "      <td>3</td>\n",
       "      <td>2</td>\n",
       "      <td>163</td>\n",
       "      <td>0.228102</td>\n",
       "    </tr>\n",
       "    <tr>\n",
       "      <th>0</th>\n",
       "      <td>0</td>\n",
       "      <td>12</td>\n",
       "      <td>4</td>\n",
       "      <td>2</td>\n",
       "      <td>163</td>\n",
       "      <td>0.230839</td>\n",
       "    </tr>\n",
       "    <tr>\n",
       "      <th>7</th>\n",
       "      <td>7</td>\n",
       "      <td>14</td>\n",
       "      <td>4</td>\n",
       "      <td>2</td>\n",
       "      <td>154</td>\n",
       "      <td>0.261861</td>\n",
       "    </tr>\n",
       "    <tr>\n",
       "      <th>49</th>\n",
       "      <td>49</td>\n",
       "      <td>12</td>\n",
       "      <td>3</td>\n",
       "      <td>2</td>\n",
       "      <td>160</td>\n",
       "      <td>0.263686</td>\n",
       "    </tr>\n",
       "    <tr>\n",
       "      <th>5</th>\n",
       "      <td>5</td>\n",
       "      <td>15</td>\n",
       "      <td>5</td>\n",
       "      <td>2</td>\n",
       "      <td>160</td>\n",
       "      <td>0.285584</td>\n",
       "    </tr>\n",
       "    <tr>\n",
       "      <th>60</th>\n",
       "      <td>60</td>\n",
       "      <td>13</td>\n",
       "      <td>3</td>\n",
       "      <td>3</td>\n",
       "      <td>88</td>\n",
       "      <td>0.298358</td>\n",
       "    </tr>\n",
       "    <tr>\n",
       "      <th>54</th>\n",
       "      <td>54</td>\n",
       "      <td>12</td>\n",
       "      <td>4</td>\n",
       "      <td>3</td>\n",
       "      <td>83</td>\n",
       "      <td>0.318431</td>\n",
       "    </tr>\n",
       "    <tr>\n",
       "      <th>44</th>\n",
       "      <td>44</td>\n",
       "      <td>12</td>\n",
       "      <td>4</td>\n",
       "      <td>3</td>\n",
       "      <td>83</td>\n",
       "      <td>0.318431</td>\n",
       "    </tr>\n",
       "    <tr>\n",
       "      <th>34</th>\n",
       "      <td>34</td>\n",
       "      <td>13</td>\n",
       "      <td>5</td>\n",
       "      <td>3</td>\n",
       "      <td>77</td>\n",
       "      <td>0.329380</td>\n",
       "    </tr>\n",
       "    <tr>\n",
       "      <th>55</th>\n",
       "      <td>55</td>\n",
       "      <td>13</td>\n",
       "      <td>4</td>\n",
       "      <td>3</td>\n",
       "      <td>87</td>\n",
       "      <td>0.331204</td>\n",
       "    </tr>\n",
       "    <tr>\n",
       "      <th>45</th>\n",
       "      <td>45</td>\n",
       "      <td>13</td>\n",
       "      <td>4</td>\n",
       "      <td>3</td>\n",
       "      <td>87</td>\n",
       "      <td>0.331204</td>\n",
       "    </tr>\n",
       "    <tr>\n",
       "      <th>19</th>\n",
       "      <td>19</td>\n",
       "      <td>12</td>\n",
       "      <td>5</td>\n",
       "      <td>3</td>\n",
       "      <td>83</td>\n",
       "      <td>0.342153</td>\n",
       "    </tr>\n",
       "    <tr>\n",
       "      <th>42</th>\n",
       "      <td>42</td>\n",
       "      <td>15</td>\n",
       "      <td>3</td>\n",
       "      <td>3</td>\n",
       "      <td>93</td>\n",
       "      <td>0.345803</td>\n",
       "    </tr>\n",
       "    <tr>\n",
       "      <th>64</th>\n",
       "      <td>64</td>\n",
       "      <td>13</td>\n",
       "      <td>6</td>\n",
       "      <td>4</td>\n",
       "      <td>51</td>\n",
       "      <td>0.352190</td>\n",
       "    </tr>\n",
       "  </tbody>\n",
       "</table>\n",
       "</div>"
      ],
      "text/plain": [
       "    run_id  n_neighbors  n_components  min_cluster_size  label_count      cost\n",
       "67      67           14             3                 2          163  0.228102\n",
       "33      33           14             3                 2          163  0.228102\n",
       "0        0           12             4                 2          163  0.230839\n",
       "7        7           14             4                 2          154  0.261861\n",
       "49      49           12             3                 2          160  0.263686\n",
       "5        5           15             5                 2          160  0.285584\n",
       "60      60           13             3                 3           88  0.298358\n",
       "54      54           12             4                 3           83  0.318431\n",
       "44      44           12             4                 3           83  0.318431\n",
       "34      34           13             5                 3           77  0.329380\n",
       "55      55           13             4                 3           87  0.331204\n",
       "45      45           13             4                 3           87  0.331204\n",
       "19      19           12             5                 3           83  0.342153\n",
       "42      42           15             3                 3           93  0.345803\n",
       "64      64           13             6                 4           51  0.352190"
      ]
     },
     "execution_count": 30,
     "metadata": {},
     "output_type": "execute_result"
    }
   ],
   "source": [
    "random_use.head(15)"
   ]
  },
  {
   "cell_type": "code",
   "execution_count": 31,
   "id": "637ee1bd",
   "metadata": {},
   "outputs": [
    {
     "data": {
      "application/vnd.jupyter.widget-view+json": {
       "model_id": "3b874f67cf5c4e45b034ebc21bf020d8",
       "version_major": 2,
       "version_minor": 0
      },
      "text/plain": [
       "  0%|          | 0/100 [00:00<?, ?it/s]"
      ]
     },
     "metadata": {},
     "output_type": "display_data"
    }
   ],
   "source": [
    "#fasttext\n",
    "space = {\n",
    "        \"n_neighbors\": range(12,16),\n",
    "        \"n_components\": range(3,7),\n",
    "        \"min_cluster_size\": range(2,16),\n",
    "        \"random_state\": 42\n",
    "    }\n",
    "\n",
    "random_use_fasttext = random_search(w_train, space, 100)"
   ]
  },
  {
   "cell_type": "code",
   "execution_count": 32,
   "id": "16fcf782",
   "metadata": {},
   "outputs": [
    {
     "data": {
      "text/html": [
       "<div>\n",
       "<style scoped>\n",
       "    .dataframe tbody tr th:only-of-type {\n",
       "        vertical-align: middle;\n",
       "    }\n",
       "\n",
       "    .dataframe tbody tr th {\n",
       "        vertical-align: top;\n",
       "    }\n",
       "\n",
       "    .dataframe thead th {\n",
       "        text-align: right;\n",
       "    }\n",
       "</style>\n",
       "<table border=\"1\" class=\"dataframe\">\n",
       "  <thead>\n",
       "    <tr style=\"text-align: right;\">\n",
       "      <th></th>\n",
       "      <th>run_id</th>\n",
       "      <th>n_neighbors</th>\n",
       "      <th>n_components</th>\n",
       "      <th>min_cluster_size</th>\n",
       "      <th>label_count</th>\n",
       "      <th>cost</th>\n",
       "    </tr>\n",
       "  </thead>\n",
       "  <tbody>\n",
       "    <tr>\n",
       "      <th>64</th>\n",
       "      <td>64</td>\n",
       "      <td>12</td>\n",
       "      <td>3</td>\n",
       "      <td>3</td>\n",
       "      <td>4</td>\n",
       "      <td>0.017336</td>\n",
       "    </tr>\n",
       "    <tr>\n",
       "      <th>90</th>\n",
       "      <td>90</td>\n",
       "      <td>12</td>\n",
       "      <td>3</td>\n",
       "      <td>3</td>\n",
       "      <td>4</td>\n",
       "      <td>0.017336</td>\n",
       "    </tr>\n",
       "    <tr>\n",
       "      <th>51</th>\n",
       "      <td>51</td>\n",
       "      <td>15</td>\n",
       "      <td>6</td>\n",
       "      <td>5</td>\n",
       "      <td>3</td>\n",
       "      <td>0.056569</td>\n",
       "    </tr>\n",
       "    <tr>\n",
       "      <th>50</th>\n",
       "      <td>50</td>\n",
       "      <td>14</td>\n",
       "      <td>5</td>\n",
       "      <td>5</td>\n",
       "      <td>3</td>\n",
       "      <td>0.245438</td>\n",
       "    </tr>\n",
       "    <tr>\n",
       "      <th>37</th>\n",
       "      <td>37</td>\n",
       "      <td>14</td>\n",
       "      <td>5</td>\n",
       "      <td>5</td>\n",
       "      <td>3</td>\n",
       "      <td>0.245438</td>\n",
       "    </tr>\n",
       "    <tr>\n",
       "      <th>34</th>\n",
       "      <td>34</td>\n",
       "      <td>13</td>\n",
       "      <td>4</td>\n",
       "      <td>6</td>\n",
       "      <td>4</td>\n",
       "      <td>0.299270</td>\n",
       "    </tr>\n",
       "    <tr>\n",
       "      <th>1</th>\n",
       "      <td>1</td>\n",
       "      <td>14</td>\n",
       "      <td>6</td>\n",
       "      <td>2</td>\n",
       "      <td>142</td>\n",
       "      <td>0.304745</td>\n",
       "    </tr>\n",
       "    <tr>\n",
       "      <th>6</th>\n",
       "      <td>6</td>\n",
       "      <td>14</td>\n",
       "      <td>6</td>\n",
       "      <td>2</td>\n",
       "      <td>142</td>\n",
       "      <td>0.304745</td>\n",
       "    </tr>\n",
       "    <tr>\n",
       "      <th>27</th>\n",
       "      <td>27</td>\n",
       "      <td>13</td>\n",
       "      <td>3</td>\n",
       "      <td>2</td>\n",
       "      <td>160</td>\n",
       "      <td>0.317518</td>\n",
       "    </tr>\n",
       "    <tr>\n",
       "      <th>19</th>\n",
       "      <td>19</td>\n",
       "      <td>15</td>\n",
       "      <td>5</td>\n",
       "      <td>2</td>\n",
       "      <td>160</td>\n",
       "      <td>0.325730</td>\n",
       "    </tr>\n",
       "    <tr>\n",
       "      <th>28</th>\n",
       "      <td>28</td>\n",
       "      <td>13</td>\n",
       "      <td>3</td>\n",
       "      <td>14</td>\n",
       "      <td>3</td>\n",
       "      <td>0.400547</td>\n",
       "    </tr>\n",
       "    <tr>\n",
       "      <th>38</th>\n",
       "      <td>38</td>\n",
       "      <td>15</td>\n",
       "      <td>3</td>\n",
       "      <td>8</td>\n",
       "      <td>3</td>\n",
       "      <td>0.410584</td>\n",
       "    </tr>\n",
       "    <tr>\n",
       "      <th>32</th>\n",
       "      <td>32</td>\n",
       "      <td>14</td>\n",
       "      <td>3</td>\n",
       "      <td>3</td>\n",
       "      <td>95</td>\n",
       "      <td>0.412409</td>\n",
       "    </tr>\n",
       "    <tr>\n",
       "      <th>7</th>\n",
       "      <td>7</td>\n",
       "      <td>12</td>\n",
       "      <td>6</td>\n",
       "      <td>3</td>\n",
       "      <td>78</td>\n",
       "      <td>0.416058</td>\n",
       "    </tr>\n",
       "    <tr>\n",
       "      <th>93</th>\n",
       "      <td>93</td>\n",
       "      <td>12</td>\n",
       "      <td>6</td>\n",
       "      <td>3</td>\n",
       "      <td>78</td>\n",
       "      <td>0.416058</td>\n",
       "    </tr>\n",
       "  </tbody>\n",
       "</table>\n",
       "</div>"
      ],
      "text/plain": [
       "    run_id  n_neighbors  n_components  min_cluster_size  label_count      cost\n",
       "64      64           12             3                 3            4  0.017336\n",
       "90      90           12             3                 3            4  0.017336\n",
       "51      51           15             6                 5            3  0.056569\n",
       "50      50           14             5                 5            3  0.245438\n",
       "37      37           14             5                 5            3  0.245438\n",
       "34      34           13             4                 6            4  0.299270\n",
       "1        1           14             6                 2          142  0.304745\n",
       "6        6           14             6                 2          142  0.304745\n",
       "27      27           13             3                 2          160  0.317518\n",
       "19      19           15             5                 2          160  0.325730\n",
       "28      28           13             3                14            3  0.400547\n",
       "38      38           15             3                 8            3  0.410584\n",
       "32      32           14             3                 3           95  0.412409\n",
       "7        7           12             6                 3           78  0.416058\n",
       "93      93           12             6                 3           78  0.416058"
      ]
     },
     "execution_count": 32,
     "metadata": {},
     "output_type": "execute_result"
    }
   ],
   "source": [
    "random_use_fasttext.head(15)"
   ]
  },
  {
   "cell_type": "code",
   "execution_count": 33,
   "id": "90a43d88",
   "metadata": {},
   "outputs": [
    {
     "data": {
      "application/vnd.jupyter.widget-view+json": {
       "model_id": "13640ab9cb8f4642826b9297e0833c12",
       "version_major": 2,
       "version_minor": 0
      },
      "text/plain": [
       "  0%|          | 0/100 [00:00<?, ?it/s]"
      ]
     },
     "metadata": {},
     "output_type": "display_data"
    }
   ],
   "source": [
    "#sentence\n",
    "\n",
    "space = {\n",
    "        \"n_neighbors\": range(12,16),\n",
    "        \"n_components\": range(3,7),\n",
    "        \"min_cluster_size\": range(2,16),\n",
    "        \"random_state\": 42\n",
    "    }\n",
    "\n",
    "random_use_sentence = random_search(embeddings_st1, space, 100)"
   ]
  },
  {
   "cell_type": "code",
   "execution_count": 34,
   "id": "26564456",
   "metadata": {},
   "outputs": [
    {
     "data": {
      "text/html": [
       "<div>\n",
       "<style scoped>\n",
       "    .dataframe tbody tr th:only-of-type {\n",
       "        vertical-align: middle;\n",
       "    }\n",
       "\n",
       "    .dataframe tbody tr th {\n",
       "        vertical-align: top;\n",
       "    }\n",
       "\n",
       "    .dataframe thead th {\n",
       "        text-align: right;\n",
       "    }\n",
       "</style>\n",
       "<table border=\"1\" class=\"dataframe\">\n",
       "  <thead>\n",
       "    <tr style=\"text-align: right;\">\n",
       "      <th></th>\n",
       "      <th>run_id</th>\n",
       "      <th>n_neighbors</th>\n",
       "      <th>n_components</th>\n",
       "      <th>min_cluster_size</th>\n",
       "      <th>label_count</th>\n",
       "      <th>cost</th>\n",
       "    </tr>\n",
       "  </thead>\n",
       "  <tbody>\n",
       "    <tr>\n",
       "      <th>28</th>\n",
       "      <td>28</td>\n",
       "      <td>13</td>\n",
       "      <td>6</td>\n",
       "      <td>11</td>\n",
       "      <td>8</td>\n",
       "      <td>0.148723</td>\n",
       "    </tr>\n",
       "    <tr>\n",
       "      <th>0</th>\n",
       "      <td>0</td>\n",
       "      <td>13</td>\n",
       "      <td>3</td>\n",
       "      <td>12</td>\n",
       "      <td>9</td>\n",
       "      <td>0.159672</td>\n",
       "    </tr>\n",
       "    <tr>\n",
       "      <th>58</th>\n",
       "      <td>58</td>\n",
       "      <td>13</td>\n",
       "      <td>3</td>\n",
       "      <td>12</td>\n",
       "      <td>9</td>\n",
       "      <td>0.159672</td>\n",
       "    </tr>\n",
       "    <tr>\n",
       "      <th>1</th>\n",
       "      <td>1</td>\n",
       "      <td>13</td>\n",
       "      <td>3</td>\n",
       "      <td>13</td>\n",
       "      <td>9</td>\n",
       "      <td>0.164234</td>\n",
       "    </tr>\n",
       "    <tr>\n",
       "      <th>97</th>\n",
       "      <td>97</td>\n",
       "      <td>12</td>\n",
       "      <td>3</td>\n",
       "      <td>11</td>\n",
       "      <td>10</td>\n",
       "      <td>0.174270</td>\n",
       "    </tr>\n",
       "    <tr>\n",
       "      <th>66</th>\n",
       "      <td>66</td>\n",
       "      <td>12</td>\n",
       "      <td>3</td>\n",
       "      <td>11</td>\n",
       "      <td>10</td>\n",
       "      <td>0.174270</td>\n",
       "    </tr>\n",
       "    <tr>\n",
       "      <th>69</th>\n",
       "      <td>69</td>\n",
       "      <td>15</td>\n",
       "      <td>3</td>\n",
       "      <td>13</td>\n",
       "      <td>9</td>\n",
       "      <td>0.187956</td>\n",
       "    </tr>\n",
       "    <tr>\n",
       "      <th>40</th>\n",
       "      <td>40</td>\n",
       "      <td>15</td>\n",
       "      <td>3</td>\n",
       "      <td>13</td>\n",
       "      <td>9</td>\n",
       "      <td>0.187956</td>\n",
       "    </tr>\n",
       "    <tr>\n",
       "      <th>45</th>\n",
       "      <td>45</td>\n",
       "      <td>14</td>\n",
       "      <td>5</td>\n",
       "      <td>14</td>\n",
       "      <td>8</td>\n",
       "      <td>0.208029</td>\n",
       "    </tr>\n",
       "    <tr>\n",
       "      <th>42</th>\n",
       "      <td>42</td>\n",
       "      <td>14</td>\n",
       "      <td>5</td>\n",
       "      <td>14</td>\n",
       "      <td>8</td>\n",
       "      <td>0.208029</td>\n",
       "    </tr>\n",
       "    <tr>\n",
       "      <th>31</th>\n",
       "      <td>31</td>\n",
       "      <td>15</td>\n",
       "      <td>5</td>\n",
       "      <td>3</td>\n",
       "      <td>61</td>\n",
       "      <td>0.208029</td>\n",
       "    </tr>\n",
       "    <tr>\n",
       "      <th>72</th>\n",
       "      <td>72</td>\n",
       "      <td>12</td>\n",
       "      <td>3</td>\n",
       "      <td>13</td>\n",
       "      <td>9</td>\n",
       "      <td>0.209854</td>\n",
       "    </tr>\n",
       "    <tr>\n",
       "      <th>6</th>\n",
       "      <td>6</td>\n",
       "      <td>15</td>\n",
       "      <td>3</td>\n",
       "      <td>12</td>\n",
       "      <td>10</td>\n",
       "      <td>0.213504</td>\n",
       "    </tr>\n",
       "    <tr>\n",
       "      <th>8</th>\n",
       "      <td>8</td>\n",
       "      <td>15</td>\n",
       "      <td>3</td>\n",
       "      <td>12</td>\n",
       "      <td>10</td>\n",
       "      <td>0.213504</td>\n",
       "    </tr>\n",
       "    <tr>\n",
       "      <th>89</th>\n",
       "      <td>89</td>\n",
       "      <td>15</td>\n",
       "      <td>4</td>\n",
       "      <td>2</td>\n",
       "      <td>136</td>\n",
       "      <td>0.217153</td>\n",
       "    </tr>\n",
       "  </tbody>\n",
       "</table>\n",
       "</div>"
      ],
      "text/plain": [
       "    run_id  n_neighbors  n_components  min_cluster_size  label_count      cost\n",
       "28      28           13             6                11            8  0.148723\n",
       "0        0           13             3                12            9  0.159672\n",
       "58      58           13             3                12            9  0.159672\n",
       "1        1           13             3                13            9  0.164234\n",
       "97      97           12             3                11           10  0.174270\n",
       "66      66           12             3                11           10  0.174270\n",
       "69      69           15             3                13            9  0.187956\n",
       "40      40           15             3                13            9  0.187956\n",
       "45      45           14             5                14            8  0.208029\n",
       "42      42           14             5                14            8  0.208029\n",
       "31      31           15             5                 3           61  0.208029\n",
       "72      72           12             3                13            9  0.209854\n",
       "6        6           15             3                12           10  0.213504\n",
       "8        8           15             3                12           10  0.213504\n",
       "89      89           15             4                 2          136  0.217153"
      ]
     },
     "execution_count": 34,
     "metadata": {},
     "output_type": "execute_result"
    }
   ],
   "source": [
    "random_use_sentence.head(15)"
   ]
  },
  {
   "cell_type": "code",
   "execution_count": 35,
   "id": "1557a747",
   "metadata": {},
   "outputs": [],
   "source": [
    "#Bayesian optimization with Hyperopt   "
   ]
  },
  {
   "cell_type": "code",
   "execution_count": 36,
   "id": "98edd1b9",
   "metadata": {},
   "outputs": [],
   "source": [
    "hspace = {  \n",
    "    \"n_neighbors\": hp.choice('n_neighbors', range(3,16)),\n",
    "    \"n_components\": hp.choice('n_components', range(3,16)),\n",
    "    \"min_cluster_size\": hp.choice('min_cluster_size', range(2,16)),\n",
    "    \"random_state\": 42\n",
    "}       \n",
    "\n",
    "label_lower = 30\n",
    "label_upper = 100\n",
    "max_evals = 100"
   ]
  },
  {
   "cell_type": "code",
   "execution_count": 37,
   "id": "a1a13c17",
   "metadata": {},
   "outputs": [
    {
     "name": "stdout",
     "output_type": "stream",
     "text": [
      "100%|██████████| 100/100 [03:32<00:00,  2.12s/trial, best loss: 0.15456204379562044]\n",
      "best:\n",
      "{'min_cluster_size': 8, 'n_components': 15, 'n_neighbors': 3, 'random_state': 42}\n",
      "label count: 3\n"
     ]
    }
   ],
   "source": [
    "best_params_use, best_clusters_use, trials_use = bayesian_search(X, \n",
    "                                                                 space=hspace, \n",
    "                                                                 label_lower=label_lower, \n",
    "                                                                 label_upper=label_upper, \n",
    "                                                                 max_evals=max_evals)"
   ]
  },
  {
   "cell_type": "code",
   "execution_count": 38,
   "id": "e8856c36",
   "metadata": {},
   "outputs": [
    {
     "data": {
      "text/plain": [
       "{'state': 2,\n",
       " 'tid': 33,\n",
       " 'spec': None,\n",
       " 'result': {'loss': 0.15456204379562044, 'label_count': 3, 'status': 'ok'},\n",
       " 'misc': {'tid': 33,\n",
       "  'cmd': ('domain_attachment', 'FMinIter_Domain'),\n",
       "  'workdir': None,\n",
       "  'idxs': {'min_cluster_size': [33],\n",
       "   'n_components': [33],\n",
       "   'n_neighbors': [33]},\n",
       "  'vals': {'min_cluster_size': [6], 'n_components': [12], 'n_neighbors': [0]}},\n",
       " 'exp_key': None,\n",
       " 'owner': None,\n",
       " 'version': 0,\n",
       " 'book_time': datetime.datetime(2022, 3, 4, 11, 0, 15, 472000),\n",
       " 'refresh_time': datetime.datetime(2022, 3, 4, 11, 0, 16, 988000)}"
      ]
     },
     "execution_count": 38,
     "metadata": {},
     "output_type": "execute_result"
    }
   ],
   "source": [
    "trials_use.best_trial"
   ]
  },
  {
   "cell_type": "code",
   "execution_count": 39,
   "id": "ebf68e9a",
   "metadata": {},
   "outputs": [
    {
     "name": "stdout",
     "output_type": "stream",
     "text": [
      "100%|██████████| 100/100 [05:29<00:00,  3.29s/trial, best loss: 0.18065693430656934]\n",
      "best:\n",
      "{'min_cluster_size': 3, 'n_components': 5, 'n_neighbors': 4, 'random_state': 42}\n",
      "label count: 92\n"
     ]
    }
   ],
   "source": [
    "best_params_st2, best_clusters_st2, trials_st2 = bayesian_search(embeddings_st1, \n",
    "                                                                 space=hspace, \n",
    "                                                                 label_lower=label_lower, \n",
    "                                                                 label_upper=label_upper, \n",
    "                                                                 max_evals=max_evals)"
   ]
  },
  {
   "cell_type": "code",
   "execution_count": 40,
   "id": "9b62ed73",
   "metadata": {},
   "outputs": [
    {
     "name": "stdout",
     "output_type": "stream",
     "text": [
      "100%|██████████| 100/100 [04:36<00:00,  2.76s/trial, best loss: 0.16970802919708028]\n",
      "best:\n",
      "{'min_cluster_size': 3, 'n_components': 13, 'n_neighbors': 3, 'random_state': 42}\n",
      "label count: 87\n"
     ]
    }
   ],
   "source": [
    "best_params_st3, best_clusters_st3, trials_st3 = bayesian_search(w_train, \n",
    "                                                                 space=hspace, \n",
    "                                                                 label_lower=label_lower, \n",
    "                                                                 label_upper=label_upper, \n",
    "                                                                 max_evals=max_evals)"
   ]
  },
  {
   "cell_type": "code",
   "execution_count": 41,
   "id": "f134d444",
   "metadata": {},
   "outputs": [
    {
     "data": {
      "image/png": "[encoded data removed]",
      "text/plain": [
       "<Figure size 1008x576 with 2 Axes>"
      ]
     },
     "metadata": {
      "needs_background": "light"
     },
     "output_type": "display_data"
    }
   ],
   "source": [
    "plot_clusters(X, best_clusters_use)"
   ]
  },
  {
   "cell_type": "code",
   "execution_count": 42,
   "id": "e764d2b0",
   "metadata": {},
   "outputs": [
    {
     "data": {
      "image/png": "[encoded data removed]",
      "text/plain": [
       "<Figure size 1008x576 with 2 Axes>"
      ]
     },
     "metadata": {
      "needs_background": "light"
     },
     "output_type": "display_data"
    }
   ],
   "source": [
    "plot_clusters(embeddings_st1, best_clusters_st2)"
   ]
  },
  {
   "cell_type": "code",
   "execution_count": 43,
   "id": "b207765a",
   "metadata": {},
   "outputs": [
    {
     "data": {
      "image/png": "[encoded data removed]",
      "text/plain": [
       "<Figure size 1008x576 with 2 Axes>"
      ]
     },
     "metadata": {
      "needs_background": "light"
     },
     "output_type": "display_data"
    }
   ],
   "source": [
    "plot_clusters(w_train, best_clusters_st3)"
   ]
  },
  {
   "cell_type": "code",
   "execution_count": null,
   "id": "c25e87b7",
   "metadata": {},
   "outputs": [],
   "source": []
  },
  {
   "cell_type": "code",
   "execution_count": null,
   "id": "0f9de1f0",
   "metadata": {},
   "outputs": [],
   "source": [
    "#comparing clustering using ground truth labels"
   ]
  },
  {
   "cell_type": "code",
   "execution_count": 70,
   "id": "52f32ac3",
   "metadata": {},
   "outputs": [
    {
     "data": {
      "text/html": [
       "<div>\n",
       "<style scoped>\n",
       "    .dataframe tbody tr th:only-of-type {\n",
       "        vertical-align: middle;\n",
       "    }\n",
       "\n",
       "    .dataframe tbody tr th {\n",
       "        vertical-align: top;\n",
       "    }\n",
       "\n",
       "    .dataframe thead th {\n",
       "        text-align: right;\n",
       "    }\n",
       "</style>\n",
       "<table border=\"1\" class=\"dataframe\">\n",
       "  <thead>\n",
       "    <tr style=\"text-align: right;\">\n",
       "      <th></th>\n",
       "      <th>title</th>\n",
       "      <th>category</th>\n",
       "      <th>label_use</th>\n",
       "      <th>label_st1</th>\n",
       "      <th>label_st2</th>\n",
       "    </tr>\n",
       "  </thead>\n",
       "  <tbody>\n",
       "    <tr>\n",
       "      <th>0</th>\n",
       "      <td>Weekly Progress Megathread! - December 28, 202...</td>\n",
       "      <td>food</td>\n",
       "      <td>1</td>\n",
       "      <td>7</td>\n",
       "      <td>-1</td>\n",
       "    </tr>\n",
       "    <tr>\n",
       "      <th>1</th>\n",
       "      <td>Have a question about the game or the subreddi...</td>\n",
       "      <td>generic</td>\n",
       "      <td>1</td>\n",
       "      <td>37</td>\n",
       "      <td>14</td>\n",
       "    </tr>\n",
       "    <tr>\n",
       "      <th>2</th>\n",
       "      <td>Welcome to r/2healthbars! / What is r/2healthb...</td>\n",
       "      <td>food</td>\n",
       "      <td>1</td>\n",
       "      <td>7</td>\n",
       "      <td>39</td>\n",
       "    </tr>\n",
       "    <tr>\n",
       "      <th>3</th>\n",
       "      <td>Weekly discussion thread. 2meirl4meirl. 2meirl...</td>\n",
       "      <td>mature</td>\n",
       "      <td>1</td>\n",
       "      <td>-1</td>\n",
       "      <td>-1</td>\n",
       "    </tr>\n",
       "    <tr>\n",
       "      <th>4</th>\n",
       "      <td>Weekly /r/3DS Questions Thread - Need help usi...</td>\n",
       "      <td>generic</td>\n",
       "      <td>1</td>\n",
       "      <td>62</td>\n",
       "      <td>39</td>\n",
       "    </tr>\n",
       "  </tbody>\n",
       "</table>\n",
       "</div>"
      ],
      "text/plain": [
       "                                               title category  label_use  \\\n",
       "0  Weekly Progress Megathread! - December 28, 202...     food          1   \n",
       "1  Have a question about the game or the subreddi...  generic          1   \n",
       "2  Welcome to r/2healthbars! / What is r/2healthb...     food          1   \n",
       "3  Weekly discussion thread. 2meirl4meirl. 2meirl...   mature          1   \n",
       "4  Weekly /r/3DS Questions Thread - Need help usi...  generic          1   \n",
       "\n",
       "   label_st1  label_st2  \n",
       "0          7         -1  \n",
       "1         37         14  \n",
       "2          7         39  \n",
       "3         -1         -1  \n",
       "4         62         39  "
      ]
     },
     "execution_count": 70,
     "metadata": {},
     "output_type": "execute_result"
    }
   ],
   "source": [
    "cluster_dict = {'label_use': best_clusters_use,\n",
    "                'label_st1': best_clusters_st2,\n",
    "               'label_st2':  best_clusters_st3}\n",
    "\n",
    "results_df = combine_results(df[['title','category']], cluster_dict)   \n",
    "results_df.head()\n",
    "#results_df.to_excel (r'C:/Users/chait/Desktop/Masterthesisgit/jugad.xlsx', index = False, header=True)"
   ]
  },
  {
   "cell_type": "code",
   "execution_count": 71,
   "id": "cfd90269",
   "metadata": {},
   "outputs": [
    {
     "data": {
      "text/html": [
       "<div>\n",
       "<style scoped>\n",
       "    .dataframe tbody tr th:only-of-type {\n",
       "        vertical-align: middle;\n",
       "    }\n",
       "\n",
       "    .dataframe tbody tr th {\n",
       "        vertical-align: top;\n",
       "    }\n",
       "\n",
       "    .dataframe thead th {\n",
       "        text-align: right;\n",
       "    }\n",
       "</style>\n",
       "<table border=\"1\" class=\"dataframe\">\n",
       "  <thead>\n",
       "    <tr style=\"text-align: right;\">\n",
       "      <th></th>\n",
       "      <th>Model</th>\n",
       "      <th>ARI</th>\n",
       "      <th>NMI</th>\n",
       "      <th>loss</th>\n",
       "      <th>label_count</th>\n",
       "      <th>n_neighbors</th>\n",
       "      <th>n_components</th>\n",
       "      <th>min_cluster_size</th>\n",
       "      <th>random_state</th>\n",
       "    </tr>\n",
       "  </thead>\n",
       "  <tbody>\n",
       "    <tr>\n",
       "      <th>1</th>\n",
       "      <td>sentence_transformers</td>\n",
       "      <td>0.407</td>\n",
       "      <td>0.701</td>\n",
       "      <td>0.180657</td>\n",
       "      <td>92</td>\n",
       "      <td>4</td>\n",
       "      <td>5</td>\n",
       "      <td>3</td>\n",
       "      <td>42</td>\n",
       "    </tr>\n",
       "    <tr>\n",
       "      <th>2</th>\n",
       "      <td>fasttext</td>\n",
       "      <td>-0.002</td>\n",
       "      <td>0.222</td>\n",
       "      <td>0.169708</td>\n",
       "      <td>87</td>\n",
       "      <td>3</td>\n",
       "      <td>13</td>\n",
       "      <td>3</td>\n",
       "      <td>42</td>\n",
       "    </tr>\n",
       "    <tr>\n",
       "      <th>0</th>\n",
       "      <td>tf-idf</td>\n",
       "      <td>0.003</td>\n",
       "      <td>0.029</td>\n",
       "      <td>0.154562</td>\n",
       "      <td>3</td>\n",
       "      <td>3</td>\n",
       "      <td>15</td>\n",
       "      <td>8</td>\n",
       "      <td>42</td>\n",
       "    </tr>\n",
       "  </tbody>\n",
       "</table>\n",
       "</div>"
      ],
      "text/plain": [
       "                   Model    ARI    NMI      loss  label_count  n_neighbors  \\\n",
       "1  sentence_transformers  0.407  0.701  0.180657           92            4   \n",
       "2               fasttext -0.002  0.222  0.169708           87            3   \n",
       "0                 tf-idf  0.003  0.029  0.154562            3            3   \n",
       "\n",
       "   n_components  min_cluster_size  random_state  \n",
       "1             5                 3            42  \n",
       "2            13                 3            42  \n",
       "0            15                 8            42  "
      ]
     },
     "execution_count": 71,
     "metadata": {},
     "output_type": "execute_result"
    }
   ],
   "source": [
    "model_dict = {'tf-idf': ['label_use', best_params_use, trials_use],\n",
    "              'sentence_transformers': ['label_st1', best_params_st2, trials_st2],\n",
    "              'fasttext': ['label_st2', best_params_st3, trials_st3]}\n",
    "\n",
    "summarize_results(model_dict, results_df)"
   ]
  },
  {
   "cell_type": "code",
   "execution_count": null,
   "id": "1ddde6f1",
   "metadata": {},
   "outputs": [],
   "source": []
  },
  {
   "cell_type": "code",
   "execution_count": null,
   "id": "0bd226d2",
   "metadata": {},
   "outputs": [],
   "source": []
  },
  {
   "cell_type": "code",
   "execution_count": null,
   "id": "b6373198",
   "metadata": {},
   "outputs": [],
   "source": []
  },
  {
   "cell_type": "code",
   "execution_count": null,
   "id": "f3e54938",
   "metadata": {},
   "outputs": [],
   "source": []
  },
  {
   "cell_type": "code",
   "execution_count": null,
   "id": "91e6a6c3",
   "metadata": {},
   "outputs": [],
   "source": []
  }
 ],
 "metadata": {
  "kernelspec": {
   "display_name": "Python 3",
   "language": "python",
   "name": "python3"
  },
  "language_info": {
   "codemirror_mode": {
    "name": "ipython",
    "version": 3
   },
   "file_extension": ".py",
   "mimetype": "text/x-python",
   "name": "python",
   "nbconvert_exporter": "python",
   "pygments_lexer": "ipython3",
   "version": "3.8.8"
  }
 },
 "nbformat": 4,
 "nbformat_minor": 5
}
